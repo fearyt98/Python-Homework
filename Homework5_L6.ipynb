{
 "cells": [
  {
   "cell_type": "markdown",
   "metadata": {},
   "source": [
    "# Задача 1. Напишите программу с классом Student, в котором есть три атрибута: name, groupNumber и age. По умолчанию name = Ivan, age = 18, groupNumber = 10A. Необходимо создать пять методов: getName, getAge, getGroupNumber, setNameAge, setGroupNumber. Метод getName нужен для получения данных об имени конкретного студента, метод getAge нужен для получения данных о возрасте конкретного студента, vетод setGroupNumberнужен для получения данных о номере группы конкретного студента. Метод SetNameAge позволяет изменить данные атрибутов установленных по умолчанию, метод setGroupNumber позволяет изменить номер группы установленный по умолчанию. В программе необходимо создать пять экземпляров класса Student, установить им разные имена, возраст и номер группы."
   ]
  },
  {
   "cell_type": "code",
   "execution_count": 24,
   "metadata": {},
   "outputs": [
    {
     "name": "stdout",
     "output_type": "stream",
     "text": [
      "Alexey 26 5B\n",
      "Petr 18 5B\n",
      "Lev 22 8B\n",
      "Artem 30 9A\n",
      "Evgeniy 23 30C\n",
      "Ivan 18 10A\n",
      "\n",
      "Petrovich 45 333G\n"
     ]
    }
   ],
   "source": [
    "class Student:\n",
    "    def __init__(self, name=\"Ivan\", age=18, groupNumber=\"10A\"):\n",
    "        if (name != \"\" and type(name) == str):\n",
    "            self.name = name\n",
    "        else:\n",
    "            self.name = \"Ivan\"\n",
    "        if (age != 0 and type(age) == int):\n",
    "            self.age = age\n",
    "        else:\n",
    "            self.age = 18\n",
    "        if (groupNumber != \"\" and type(groupNumber) == str):\n",
    "            self.groupNumber = groupNumber\n",
    "        else:\n",
    "            self.groupNumber = \"10A\"\n",
    "    \n",
    "    def setNameAge(self, name, age):\n",
    "        if (name != \"\" and type(name) == str):\n",
    "            self.name = name\n",
    "        if (age != 0 and type(age) == int):\n",
    "            self.age = age\n",
    "\n",
    "    def setGroupNumber(self, groupNumber):\n",
    "        if (groupNumber != \"\" and type(groupNumber) == str):\n",
    "            self.groupNumber = groupNumber\n",
    "\n",
    "    def getName(self):\n",
    "        return self.name\n",
    "\n",
    "    def getAge(self):\n",
    "        return self.age\n",
    "\n",
    "    def getGroupNumber(self):\n",
    "        return self.groupNumber\n",
    "\n",
    "students_list = [Student(\"Alexey\", 26, \"5B\"),\n",
    "                 Student(\"Petr\", 18, \"5B\"),\n",
    "                 Student(\"Lev\", 22, \"8B\"),\n",
    "                 Student(\"Artem\", 30, \"9A\"),\n",
    "                 Student(\"Evgeniy\", 23, \"30C\"),\n",
    "                 Student()]\n",
    "for i in students_list:       \n",
    "    print(i.getName()+\" \"+str(i.getAge())+\" \"+i.getGroupNumber())\n",
    "\n",
    "\n",
    "students_list[1].setNameAge(\"Petrovich\", 45)\n",
    "students_list[1].setGroupNumber(\"333G\")\n",
    "print(\"\\n\"+students_list[1].getName()+\" \"+str(students_list[1].getAge())+\" \"+students_list[1].getGroupNumber())"
   ]
  },
  {
   "cell_type": "markdown",
   "metadata": {},
   "source": [
    "# Задача 2. Напишите программу с классом Car. Создайте конструктор класса Car. Создайте атрибуты класса Car — color (цвет), type (тип), year (год). Напишите пять методов. Первый — запуск автомобиля, при его вызове выводится сообщение «Автомобиль заведен». Второй — отключение автомобиля — выводит сообщение «Автомобиль заглушен». Третий — присвоение автомобилю года выпуска. Четвертый метод — присвоение автомобилю типа. Пятый — присвоение автомобилю цвета."
   ]
  },
  {
   "cell_type": "code",
   "execution_count": 26,
   "metadata": {},
   "outputs": [
    {
     "name": "stdout",
     "output_type": "stream",
     "text": [
      "Black Jeep 2010\n",
      "Автомобиль заведен\n",
      "Автомобиль выключен\n"
     ]
    }
   ],
   "source": [
    "class Car:\n",
    "    def __init__(self, color, auto_type, year):\n",
    "        self.color = color\n",
    "        self.auto_type = auto_type\n",
    "        self.year = year\n",
    "    def startAuto(self):\n",
    "        print(\"Автомобиль заведен\")\n",
    "    def stopAuto(self):\n",
    "        print(\"Автомобиль выключен\")\n",
    "    def setYear(self, year):\n",
    "        self.year = year\n",
    "    def setAutoType(self, auto_type):\n",
    "        self.auto_type = auto_type\n",
    "    def setColor(self, color):\n",
    "        self.color = color\n",
    "    def showInfo(self):\n",
    "        print(self.color+\" \"+self.auto_type+\" \"+str(self.year))\n",
    "\n",
    "my_auto = Car(\"Black\", \"Jeep\", 2010)\n",
    "my_auto.showInfo()\n",
    "\n",
    "my_auto.startAuto()\n",
    "my_auto.stopAuto()"
   ]
  },
  {
   "cell_type": "markdown",
   "metadata": {},
   "source": [
    "# Задача 3. Допишите функцию Nutrionm"
   ]
  },
  {
   "cell_type": "code",
   "execution_count": 35,
   "metadata": {},
   "outputs": [
    {
     "name": "stdout",
     "output_type": "stream",
     "text": [
      "Nutrition p 5, c 6, f 4\n",
      "Nutrition p 15, c 18, f 12\n",
      "Nutrition p 30, c 36, f 24\n"
     ]
    }
   ],
   "source": [
    "class NutritionInfo:\n",
    "    def __init__(self, proteins, carbs, fats):\n",
    "        self.proteins = proteins\n",
    "        self.carbs = carbs\n",
    "        self.fats = fats\n",
    "    \n",
    "    def __add__(self, other):\n",
    "        return NutritionInfo(self.proteins + other.proteins, self.carbs + other.carbs, self.fats + other.fats)\n",
    "    \n",
    "    def __str__(self):\n",
    "        return f\"Nutrition p {self.proteins}, c {self.carbs}, f {self.fats}\"\n",
    "        \n",
    "    def energy(self):\n",
    "        return int(self.fats * 9 + (self.carbs + self.proteins) * 4.2)\n",
    "\n",
    "    def __mul__(self, value):\n",
    "        if type(value) in (int, float):\n",
    "            return NutritionInfo(self.proteins*value, self.carbs*value, self.fats*value)\n",
    "\n",
    "    def __rmul__(self, value):\n",
    "        if type(value) in (int, float):\n",
    "            return NutritionInfo(self.proteins*value, self.carbs*value, self.fats*value)\n",
    "\n",
    "Apple = NutritionInfo(5, 6, 4)\n",
    "Egg = NutritionInfo(1, 2, 3)\n",
    "\n",
    "print(Apple)\n",
    "Apple = Apple*3\n",
    "print(Apple)\n",
    "Apple = 2*Apple\n",
    "print(Apple)\n"
   ]
  }
 ],
 "metadata": {
  "interpreter": {
   "hash": "2be5faf79681da6f2a61fdfdd5405d65d042280f7fba6178067603e3a2925119"
  },
  "kernelspec": {
   "display_name": "Python 3.10.0 64-bit",
   "language": "python",
   "name": "python3"
  },
  "language_info": {
   "name": "python",
   "version": "3.10.0"
  },
  "orig_nbformat": 4
 },
 "nbformat": 4,
 "nbformat_minor": 2
}
