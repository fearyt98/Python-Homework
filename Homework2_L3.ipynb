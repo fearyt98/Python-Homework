{
 "cells": [
  {
   "cell_type": "markdown",
   "metadata": {},
   "source": [
    "# Задача 1 Какой месяц"
   ]
  },
  {
   "cell_type": "code",
   "execution_count": 48,
   "metadata": {},
   "outputs": [
    {
     "name": "stdout",
     "output_type": "stream",
     "text": [
      "Февраль\n"
     ]
    }
   ],
   "source": [
    "list_of_months = [\"Январь\",\"Февраль\",\"Март\",\"Апрель\",\"Май\",\"Июнь\",\"Июль\",\"Август\",\"Сентябрь\",\"Октябрь\",\"Ноябрь\",\"Декабрь\"]\n",
    "month = 1\n",
    "print(list_of_months[month] if month <12 else \"Ошибка с выбором индекса\")"
   ]
  },
  {
   "cell_type": "markdown",
   "metadata": {},
   "source": [
    "# Задача 2 Наибольший общий делитель"
   ]
  },
  {
   "cell_type": "markdown",
   "metadata": {},
   "source": []
  },
  {
   "cell_type": "code",
   "execution_count": 11,
   "metadata": {},
   "outputs": [
    {
     "name": "stdout",
     "output_type": "stream",
     "text": [
      "4\n"
     ]
    }
   ],
   "source": [
    "variable_a = 600 #Можно добавить input\n",
    "variable_b = 1012 \n",
    "max_div = 2\n",
    "for i in range(max_div, variable_a if variable_a<=variable_b else variable_b):\n",
    "    if variable_a % i == 0 and variable_b % i == 0:\n",
    "        max_div = i\n",
    "print(max_div)\n"
   ]
  },
  {
   "cell_type": "markdown",
   "metadata": {},
   "source": [
    "# Задача 3 Проверка расширения файла"
   ]
  },
  {
   "cell_type": "code",
   "execution_count": 57,
   "metadata": {},
   "outputs": [
    {
     "name": "stdout",
     "output_type": "stream",
     "text": [
      "Расширение не найдено\n"
     ]
    }
   ],
   "source": [
    "file_name = \"Моя диссертац.gif\" #Можно добавить input\n",
    "extensions = ['png', 'jpg', 'jpeg', 'gif', 'svg']\n",
    "\n",
    "max_length = 0\n",
    "for i in extensions:\n",
    "    if len(i) >= max_length:\n",
    "        max_length = len(i)\n",
    "\n",
    "check = False\n",
    "for i in extensions:\n",
    "    ext = file_name[-max_length:]\n",
    "    if ext[0:len(ext)] == i or ext[1:len(ext)] == i:\n",
    "        print(\"Расширение найдено: \"+ext)\n",
    "        check = True\n",
    "if check == False:\n",
    "    print(\"Расширение не найдено\")\n",
    "    "
   ]
  },
  {
   "cell_type": "markdown",
   "metadata": {},
   "source": [
    "# Задача 4 Вискосный Год"
   ]
  },
  {
   "cell_type": "code",
   "execution_count": 71,
   "metadata": {},
   "outputs": [
    {
     "name": "stdout",
     "output_type": "stream",
     "text": [
      "Обычный год\n"
     ]
    }
   ],
   "source": [
    "year=2021 #Можно добавить input\n",
    "\n",
    "if year % 400 == 0:\n",
    "    print(\"Год високосный 1\")\n",
    "elif year % 100 == 0:\n",
    "    print(\"Год невисокосный\")\n",
    "elif year % 4 == 0:\n",
    "    print(\"Год високосный 2\")\n",
    "else:\n",
    "    print(\"Обычный год\")"
   ]
  }
 ],
 "metadata": {
  "interpreter": {
   "hash": "2be5faf79681da6f2a61fdfdd5405d65d042280f7fba6178067603e3a2925119"
  },
  "kernelspec": {
   "display_name": "Python 3.10.0 64-bit",
   "language": "python",
   "name": "python3"
  },
  "language_info": {
   "codemirror_mode": {
    "name": "ipython",
    "version": 3
   },
   "file_extension": ".py",
   "mimetype": "text/x-python",
   "name": "python",
   "nbconvert_exporter": "python",
   "pygments_lexer": "ipython3",
   "version": "3.10.0"
  },
  "orig_nbformat": 4
 },
 "nbformat": 4,
 "nbformat_minor": 2
}
