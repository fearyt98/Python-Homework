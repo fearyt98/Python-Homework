{
 "cells": [
  {
   "cell_type": "markdown",
   "metadata": {},
   "source": [
    "# Напишите функцию, извлекающую корень n-й степени из числа x. По умолчанию def будет извлекать квадратный корень"
   ]
  },
  {
   "cell_type": "code",
   "execution_count": 10,
   "metadata": {},
   "outputs": [
    {
     "name": "stdout",
     "output_type": "stream",
     "text": [
      "Введите число и степень для извлечения корня:\n",
      "10.0\n"
     ]
    }
   ],
   "source": [
    "def sqrt(x, degree):\n",
    "    if degree<=0:\n",
    "        degree = 2\n",
    "    if x>0:\n",
    "        print(x**(1/degree))\n",
    "    else:\n",
    "        print(\"Введены неправильные числа\")\n",
    "\n",
    "print(\"Введите число и степень для извлечения корня:\")\n",
    "sqrt(float(input()), float(input()))"
   ]
  },
  {
   "cell_type": "markdown",
   "metadata": {},
   "source": [
    "# Перепишите ваш код для проверки расширения из прошлого ДЗ в функцию которая принимает список расширений и имя файла"
   ]
  },
  {
   "cell_type": "code",
   "execution_count": 13,
   "metadata": {},
   "outputs": [
    {
     "name": "stdout",
     "output_type": "stream",
     "text": [
      "Расширение найдено: .gif\n"
     ]
    }
   ],
   "source": [
    "def check_ext(file_name, extensions = []):\n",
    "    max_length = 0\n",
    "    for i in extensions:\n",
    "        if len(i) >= max_length:\n",
    "            max_length = len(i)\n",
    "\n",
    "    check = False\n",
    "    for i in extensions:\n",
    "        ext = file_name[-max_length:]\n",
    "        if ext[0:len(ext)] == i or ext[1:len(ext)] == i:\n",
    "            print(\"Расширение найдено: \"+ext)\n",
    "            check = True\n",
    "    if check == False:\n",
    "        print(\"Расширение не найдено\")\n",
    "\n",
    "file_name = \"Моя диссертац.gif\" #Можно добавить input\n",
    "extensions = ['png', 'jpg', 'jpeg', 'gif', 'svg']\n",
    "\n",
    "check_ext(file_name, extensions)"
   ]
  },
  {
   "cell_type": "markdown",
   "metadata": {},
   "source": [
    "# Слейте воедино три словаря"
   ]
  },
  {
   "cell_type": "code",
   "execution_count": 19,
   "metadata": {},
   "outputs": [
    {
     "name": "stdout",
     "output_type": "stream",
     "text": [
      "{}\n",
      "{1: 10, 2: 20, 3: 30, 4: 40, 5: 50, 6: 60}\n"
     ]
    }
   ],
   "source": [
    "dict_a = {1:10, 2:20}\n",
    "dict_b = {3:30, 4:40}\n",
    "dict_c = {5:50, 6:60}\n",
    "dict_all ={}\n",
    "\n",
    "print(dict_all)\n",
    "dict_all.update(dict_a)\n",
    "dict_all.update(dict_b)\n",
    "dict_all.update(dict_c)\n",
    "print(dict_all)"
   ]
  },
  {
   "cell_type": "markdown",
   "metadata": {},
   "source": [
    "# Напишите функцию которая будет складывать цифры внутри числа"
   ]
  },
  {
   "cell_type": "code",
   "execution_count": 33,
   "metadata": {},
   "outputs": [
    {
     "name": "stdout",
     "output_type": "stream",
     "text": [
      "8\n"
     ]
    }
   ],
   "source": [
    "def summ(number):\n",
    "    summ = 0\n",
    "    for i in number:\n",
    "        if (i != \".\") and (i.isdigit() == True):\n",
    "            summ+=int(i)\n",
    "    return summ\n",
    "\n",
    "number = input()\n",
    "print(summ(number))"
   ]
  },
  {
   "cell_type": "markdown",
   "metadata": {},
   "source": [
    "# Нужно проверить, все ли числа в последовательности уникальны"
   ]
  },
  {
   "cell_type": "code",
   "execution_count": 75,
   "metadata": {},
   "outputs": [
    {
     "name": "stdout",
     "output_type": "stream",
     "text": [
      "Числа не уникальны, есть повторения\n"
     ]
    }
   ],
   "source": [
    "def unique_numbers(list = []):\n",
    "    unique = True\n",
    "    for i in range(len(list)):\n",
    "        for j in range(i+1, len(list)):\n",
    "            if list[i] == list[j]: \n",
    "                unique = False\n",
    "    return unique\n",
    "\n",
    "numbers = [1, 4, 5, 6]\n",
    "print(\"Числа уникальные\" if unique_numbers(numbers) == True else \"Числа не уникальны, есть повторения\")"
   ]
  },
  {
   "cell_type": "markdown",
   "metadata": {},
   "source": [
    "# Создать функцию, которая просто печатает все элементы заданного ей списка:"
   ]
  },
  {
   "cell_type": "code",
   "execution_count": 80,
   "metadata": {},
   "outputs": [
    {
     "name": "stdout",
     "output_type": "stream",
     "text": [
      "НОМЕР 0 --> я\n",
      "НОМЕР 1 --> не\n",
      "НОМЕР 2 --> в\n",
      "НОМЕР 3 --> отпуск\n",
      "НОМЕР 4 --> как дела\n",
      "НОМЕР 5 --> пока\n"
     ]
    }
   ],
   "source": [
    "def print_list(my_list):\n",
    "    for i in range(len(my_list)):\n",
    "        print(\"НОМЕР \"+str(i)+\" --> \"+str(my_list[i]))\n",
    "    pass\n",
    "\n",
    "print_list([\"я\", \"не\", \"в\", \"отпуск\",\"как дела\",\"пока\"])"
   ]
  },
  {
   "cell_type": "markdown",
   "metadata": {},
   "source": [
    "# Создать функцию, которая печатает каждый элемент словарика"
   ]
  },
  {
   "cell_type": "code",
   "execution_count": 85,
   "metadata": {},
   "outputs": [
    {
     "name": "stdout",
     "output_type": "stream",
     "text": [
      "КЛЮЧ <<key1>> --> 2\n",
      "КЛЮЧ <<key3>> --> False\n",
      "КЛЮЧ <<Приветствие>> --> Hello\n"
     ]
    }
   ],
   "source": [
    "def print_dict(my_dict):\n",
    "    for k in my_dict:\n",
    "        print(\"КЛЮЧ <<\"+str(k)+\">> --> \"+str(my_dict[k]))\n",
    "    pass\n",
    "\n",
    "print_dict({\"key1\": 2, \"key3\": False, \"Приветствие\": \"Hello\"})"
   ]
  },
  {
   "cell_type": "markdown",
   "metadata": {},
   "source": [
    "# Сделать функцию, которая использует две уже написанные функции следующим образом:"
   ]
  },
  {
   "cell_type": "code",
   "execution_count": 102,
   "metadata": {},
   "outputs": [
    {
     "name": "stdout",
     "output_type": "stream",
     "text": [
      "1\n",
      "НОМЕР 0 --> 1\n",
      "НОМЕР 1 --> 2\n",
      "НОМЕР 2 --> 3\n",
      "НОМЕР 3 --> 4\n",
      "Hello\n",
      "КЛЮЧ <<ciao>> --> Mondo\n",
      "КЛЮЧ <<Привет>> --> О дивный мир\n"
     ]
    }
   ],
   "source": [
    "def print_list(my_list):\n",
    "    for i in range(len(my_list)):\n",
    "        print(\"НОМЕР \"+str(i)+\" --> \"+str(my_list[i]))\n",
    "    pass\n",
    "\n",
    "def print_dict(my_dict):\n",
    "    for k in my_dict:\n",
    "        print(\"КЛЮЧ <<\"+str(k)+\">> --> \"+str(my_dict[k]))\n",
    "    pass\n",
    "\n",
    "def print_overlord(my_dict):\n",
    "    for key in my_dict:\n",
    "        if type(my_dict[key]) == list:\n",
    "            print_list(my_dict[key])\n",
    "        elif type(my_dict[key]) == dict:\n",
    "            print_dict(my_dict[key])\n",
    "        else:\n",
    "            print(my_dict[key])\n",
    "    pass\n",
    "\n",
    "print_overlord(dict(key1=1, key2=[1, 2, 3, 4], key3='Hello', key4={\"ciao\":\"Mondo\", \"Привет\": \"О дивный мир\"}))"
   ]
  },
  {
   "cell_type": "markdown",
   "metadata": {},
   "source": [
    "# Сделать функцию, которая на вход получает фразу и печатает все отдельные слова из этой фразы. Операция разбиения строки на составляющие называется токенизацией, это слово нам ещё пригодится в будущем."
   ]
  },
  {
   "cell_type": "code",
   "execution_count": 105,
   "metadata": {},
   "outputs": [
    {
     "name": "stdout",
     "output_type": "stream",
     "text": [
      "Тут\n",
      "фраза\n",
      "с\n",
      "пробелами\n",
      "и\n",
      "я\n",
      "хочу\n",
      "их\n",
      "распечатать\n",
      "по\n",
      "одному\n",
      "на\n",
      "строку\n",
      "и\n",
      "ещё\n",
      "посчитать\n",
      "слова\n",
      "Всего слов: 17\n"
     ]
    }
   ],
   "source": [
    "def word_count(phrase):\n",
    "    words_list = phrase.split(\" \")\n",
    "    for i in words_list:\n",
    "        print(i)\n",
    "    print(\"Всего слов: \"+str(len(words_list)))\n",
    "    pass\n",
    "   \n",
    "word_count(\"Тут фраза с пробелами и я хочу их распечатать по одному на строку и ещё посчитать слова\")"
   ]
  },
  {
   "cell_type": "markdown",
   "metadata": {},
   "source": [
    "# Модифицировать функцию из предыдущего задания так, чтобы она считала \"вес\" каждого слова, выводя в процентное соотношение во фразе для каждого слова. Проценты печатать с точностью до 2 знаков после запятой."
   ]
  },
  {
   "cell_type": "code",
   "execution_count": 129,
   "metadata": {},
   "outputs": [
    {
     "name": "stdout",
     "output_type": "stream",
     "text": [
      "Тут | 3.45% вес слова\n",
      "фраза | 5.75% вес слова\n",
      "с | 1.15% вес слова\n",
      "пробелами | 10.34% вес слова\n",
      "и | 1.15% вес слова\n",
      "я | 1.15% вес слова\n",
      "хочу | 4.6% вес слова\n",
      "их | 2.3% вес слова\n",
      "распечатать | 12.64% вес слова\n",
      "по | 2.3% вес слова\n",
      "одному | 6.9% вес слова\n",
      "на | 2.3% вес слова\n",
      "строку | 6.9% вес слова\n",
      "ещё | 3.45% вес слова\n",
      "посчитать | 10.34% вес слова\n",
      "слова | 5.75% вес слова\n",
      "Всего слов: 17\n"
     ]
    }
   ],
   "source": [
    "def word_count(phrase):\n",
    "    words_list = phrase.split(\" \")\n",
    "    length_phrase = len(phrase)\n",
    "    phrase_dict = {}\n",
    "\n",
    "    for i in words_list:\n",
    "        phrase_dict[i] = len(i)\n",
    "\n",
    "    for i in phrase_dict:\n",
    "        print(i+\" | \"+str(round((phrase_dict[i]/length_phrase)*100, 2))+\"% вес слова\")\n",
    "\n",
    "    print(\"Всего слов: \"+str(len(words_list)))\n",
    "    pass\n",
    "   \n",
    "word_count(\"Тут фраза с пробелами и я хочу их распечатать по одному на строку и ещё посчитать слова\")"
   ]
  }
 ],
 "metadata": {
  "interpreter": {
   "hash": "2be5faf79681da6f2a61fdfdd5405d65d042280f7fba6178067603e3a2925119"
  },
  "kernelspec": {
   "display_name": "Python 3.10.0 64-bit",
   "language": "python",
   "name": "python3"
  },
  "language_info": {
   "codemirror_mode": {
    "name": "ipython",
    "version": 3
   },
   "file_extension": ".py",
   "mimetype": "text/x-python",
   "name": "python",
   "nbconvert_exporter": "python",
   "pygments_lexer": "ipython3",
   "version": "3.10.0"
  },
  "orig_nbformat": 4
 },
 "nbformat": 4,
 "nbformat_minor": 2
}
