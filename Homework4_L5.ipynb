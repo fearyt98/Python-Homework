{
 "cells": [
  {
   "cell_type": "markdown",
   "metadata": {},
   "source": [
    "# Средний бал и список отстающих учеников"
   ]
  },
  {
   "cell_type": "code",
   "execution_count": 10,
   "metadata": {},
   "outputs": [
    {
     "name": "stdout",
     "output_type": "stream",
     "text": [
      "Средний балл: 3.1818181818181817\n",
      "Список отстающих:\n",
      "Петров И. 3 отстающий\n",
      "Дмитриев Н. 2 отстающий\n",
      "Котов Д. 2 отстающий\n",
      "Бирюкова Н. 1 отстающий\n",
      "Данилов П. 3 отстающий\n",
      "Лемонов Ю. 2 отстающий\n"
     ]
    }
   ],
   "source": [
    "with open('L5_1.txt', 'r', encoding='utf-8') as file:\n",
    "    lines = file.read().split('\\n')\n",
    "\n",
    "summ = 0\n",
    "count = 0\n",
    "average = 0\n",
    "\n",
    "for i in lines:\n",
    "    for j in i:\n",
    "        if j.isdigit() == True:\n",
    "            summ += int(j)\n",
    "            count +=1\n",
    "average = summ/count\n",
    "print(\"Средний балл: \"+str(average))\n",
    "print(\"Список отстающих:\")\n",
    "\n",
    "for i in lines:\n",
    "    for j in i:\n",
    "        if (j.isdigit() == True) and (float(j)<average):\n",
    "            print(i+\" отстающий\")\n",
    "            \n",
    "\n"
   ]
  },
  {
   "cell_type": "markdown",
   "metadata": {},
   "source": [
    "# Посчитать количество определенных слов в файле"
   ]
  },
  {
   "cell_type": "code",
   "execution_count": 25,
   "metadata": {},
   "outputs": [
    {
     "name": "stdout",
     "output_type": "stream",
     "text": [
      "Лабораторных: 2\n",
      "Практических: 11\n",
      "Лекций: 6\n"
     ]
    }
   ],
   "source": [
    "import re\n",
    "\n",
    "with open('L5_2.txt', 'r', encoding='utf-8') as file:\n",
    "    lines = file.read().split('\\n')\n",
    "\n",
    "lect_count = 0\n",
    "labs_count = 0\n",
    "prac_count = 0\n",
    "for i in lines:\n",
    "    if re.findall(r'лек\\D',i) != []:\n",
    "        lect_count+=1\n",
    "    elif re.findall(r'прак\\D',i) != []:\n",
    "        prac_count+=1\n",
    "    elif re.findall(r'лаб\\D',i) != []:\n",
    "        labs_count+=1\n",
    "print(\"Лабораторных: \"+str(labs_count))\n",
    "print(\"Практических: \"+str(prac_count))\n",
    "print(\"Лекций: \"+str(lect_count))\n"
   ]
  },
  {
   "cell_type": "markdown",
   "metadata": {},
   "source": [
    "# Выведите список файлов в указанной директории. например где у вас лежат ваши тетради"
   ]
  },
  {
   "cell_type": "code",
   "execution_count": 26,
   "metadata": {},
   "outputs": [
    {
     "name": "stdout",
     "output_type": "stream",
     "text": [
      "['$RECYCLE.BIN', '001 (1).pdf', '001.pdf', 'KoeiTecmo', 'My Games', 'PSO2', 'SteamLibrary', 'System Volume Information', 'waifu2x-caffe', 'WargameRedDragon', 'WIN_20210212_15_48_01_Pro.mp4', 'WIN_20210212_16_34_34_Pro.mp4', 'Безымянный.png', 'Новая папка', 'Собрание в канале _Общий_-20210924_183010-Запись собрания.mp4']\n"
     ]
    }
   ],
   "source": [
    "import os\n",
    "dirname = 'R:\\\\'\n",
    "files = os.listdir(dirname)\n",
    "\n",
    "print(files)"
   ]
  },
  {
   "cell_type": "markdown",
   "metadata": {},
   "source": [
    "# Напишите программу, которая принимает текст и выводит два слова: наиболее часто встречающееся и самое длинное."
   ]
  },
  {
   "cell_type": "code",
   "execution_count": 14,
   "metadata": {},
   "outputs": [
    {
     "name": "stdout",
     "output_type": "stream",
     "text": [
      "{'Варкалось': 2, 'Хливкие': 2, 'шорьки': 2, 'Пырялись': 2, 'по': 2, 'наве': 2, 'И': 5, 'хрюкотали': 2, 'зелюки': 2, 'Как': 2, 'мюмзики': 2, 'в': 4, 'мове': 2, '': 1, 'О': 3, 'бойся': 1, 'Бармаглота': 1, 'сын': 1, 'Он': 2, 'так': 1, 'свирлеп': 1, 'и': 3, 'дик': 1, 'А': 1, 'глу́ше': 1, 'ры́мит': 1, 'исполин': 1, 'Злопастный': 1, 'Брандашмыг': 1, 'Но': 1, 'взял': 2, 'он': 2, 'меч': 2, 'щит': 1, 'Высоких': 1, 'полон': 1, 'дум': 1, 'В': 1, 'глущобу': 1, 'путь': 1, 'его': 1, 'лежит': 1, 'Под': 1, 'дерево': 2, 'Тумтум': 1, 'стал': 1, 'под': 1, 'ждёт': 1, 'вдруг': 1, 'граахнул': 1, 'гром': 1, 'Летит': 1, 'ужасный': 1, 'Бармаглот': 1, 'пылкает': 1, 'огнём': 1, 'Раздва': 1, 'раздва': 1, 'Горит': 1, 'трава': 1, 'Взывзы': 1, 'стрижает': 1, 'Ува': 2, 'голова': 1, 'Барабардает': 1, 'с': 1, 'плеч': 1, 'светозарный': 1, 'мальчик': 1, 'мой': 1, 'Ты': 1, 'победил': 1, 'бою': 1, 'храброславленный': 1, 'герой': 1, 'Хвалу': 1, 'тебе': 1, 'пою': 1}\n",
      "Наиболее встречающиеся слово: И\n",
      "Число повторений: 5\n",
      "Максимальная длина слова: 16\n"
     ]
    }
   ],
   "source": [
    "with open('L5_3.txt', 'r', encoding='utf-8') as file:\n",
    "    lines = file.read().split('\\n')\n",
    "\n",
    "\n",
    "formated_lines = []\n",
    "for i in lines:\n",
    "    formated_lines.append(str(i).replace(',','').replace('!','').replace('.','').replace('-','').replace(',','').replace('—','').replace('  ',' '))\n",
    "\n",
    "dictionary = {}\n",
    "max_length_word = 0\n",
    "for j in formated_lines:\n",
    "    line = j.split(' ')\n",
    "    for k in line:\n",
    "        if len(k)>max_length_word:\n",
    "            max_length_word = len(k)\n",
    "        if dictionary.get(k) != None and k !='':\n",
    "            value = dictionary.get(k)\n",
    "            value += 1\n",
    "            dictionary[k] = value\n",
    "        else:\n",
    "            value = 1\n",
    "            dictionary.update({k:value})\n",
    "\n",
    "frequent_word = \"\"\n",
    "count = 0\n",
    "for i in dictionary:\n",
    "    if dictionary[i]>count:\n",
    "        count = dictionary[i]\n",
    "        frequent_word = i\n",
    "\n",
    "print(dictionary)\n",
    "print(\"Наиболее встречающиеся слово: \"+frequent_word+\"\\nЧисло повторений: \"+str(count))\n",
    "print(\"Максимальная длина слова: \"+str(max_length_word))"
   ]
  }
 ],
 "metadata": {
  "interpreter": {
   "hash": "2be5faf79681da6f2a61fdfdd5405d65d042280f7fba6178067603e3a2925119"
  },
  "kernelspec": {
   "display_name": "Python 3.10.0 64-bit",
   "language": "python",
   "name": "python3"
  },
  "language_info": {
   "codemirror_mode": {
    "name": "ipython",
    "version": 3
   },
   "file_extension": ".py",
   "mimetype": "text/x-python",
   "name": "python",
   "nbconvert_exporter": "python",
   "pygments_lexer": "ipython3",
   "version": "3.10.0"
  },
  "orig_nbformat": 4
 },
 "nbformat": 4,
 "nbformat_minor": 2
}
