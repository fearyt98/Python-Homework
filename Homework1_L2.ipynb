{
 "cells": [
  {
   "cell_type": "code",
   "execution_count": 1,
   "metadata": {},
   "outputs": [
    {
     "name": "stdout",
     "output_type": "stream",
     "text": [
      "0 2 46 40\n",
      "Введите два числа подряд и знак операции:\n",
      "1.0\n"
     ]
    }
   ],
   "source": [
    "seconds=10000\n",
    "seconds_clear=seconds%60\n",
    "minutes = seconds//60\n",
    "hours = minutes//60\n",
    "days = hours//24\n",
    "print(str(days)+\" \"+str(hours-days*24)+\" \"+str(minutes-hours*60)+\" \"+str(seconds_clear))\n",
    "\n",
    "print(\"Введите два числа подряд и знак операции:\")\n",
    "variable_a=float(input())\n",
    "variable_b=float(input())\n",
    "sign=input()\n",
    "\n",
    "if sign==\"+\":\n",
    "    print(variable_a+variable_b)\n",
    "elif sign==\"-\":\n",
    "    print(variable_a-variable_b)\n",
    "elif sign==\"*\":\n",
    "    print(variable_a*variable_b)\n",
    "elif sign==\"/\":\n",
    "    print(variable_a/variable_b)"
   ]
  }
 ],
 "metadata": {
  "interpreter": {
   "hash": "2be5faf79681da6f2a61fdfdd5405d65d042280f7fba6178067603e3a2925119"
  },
  "kernelspec": {
   "display_name": "Python 3.10.0 64-bit",
   "language": "python",
   "name": "python3"
  },
  "language_info": {
   "codemirror_mode": {
    "name": "ipython",
    "version": 3
   },
   "file_extension": ".py",
   "mimetype": "text/x-python",
   "name": "python",
   "nbconvert_exporter": "python",
   "pygments_lexer": "ipython3",
   "version": "3.10.0"
  },
  "orig_nbformat": 4
 },
 "nbformat": 4,
 "nbformat_minor": 2
}
